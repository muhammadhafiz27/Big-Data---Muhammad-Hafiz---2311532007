{
  "nbformat": 4,
  "nbformat_minor": 0,
  "metadata": {
    "colab": {
      "provenance": [],
      "authorship_tag": "ABX9TyPGq9XLIvfa+XQPBuN0pLgS",
      "include_colab_link": true
    },
    "kernelspec": {
      "name": "python3",
      "display_name": "Python 3"
    },
    "language_info": {
      "name": "python"
    }
  },
  "cells": [
    {
      "cell_type": "markdown",
      "metadata": {
        "id": "view-in-github",
        "colab_type": "text"
      },
      "source": [
        "<a href=\"https://colab.research.google.com/github/muhammadhafiz27/BigData-Muhammad-Hafiz-2311532007/blob/main/scraping/praktikum_bigdata_pertemuan2.ipynb\" target=\"_parent\"><img src=\"https://colab.research.google.com/assets/colab-badge.svg\" alt=\"Open In Colab\"/></a>"
      ]
    },
    {
      "cell_type": "code",
      "execution_count": 1,
      "metadata": {
        "id": "dRbGrH4waLeg"
      },
      "outputs": [],
      "source": [
        "import requests\n",
        "from bs4 import BeautifulSoup\n",
        "import csv"
      ]
    },
    {
      "cell_type": "code",
      "source": [
        "url = \"https://quotes.toscrape.com/\"\n",
        "response = requests.get(url)"
      ],
      "metadata": {
        "id": "52tBns-lahWZ"
      },
      "execution_count": 3,
      "outputs": []
    },
    {
      "cell_type": "code",
      "source": [
        "soup = BeautifulSoup(response.text, \"html.parser\")"
      ],
      "metadata": {
        "id": "gAjtz58tbNF8"
      },
      "execution_count": 4,
      "outputs": []
    },
    {
      "cell_type": "code",
      "source": [
        "quotes = soup.find_all(\"span\", class_=\"text\")\n",
        "authors = soup.find_all(\"small\", class_=\"author\")"
      ],
      "metadata": {
        "id": "GQMbXKvTbcEW"
      },
      "execution_count": 5,
      "outputs": []
    },
    {
      "cell_type": "code",
      "source": [
        "with open(\"quotes.csv\", \"w\", newline=\"\", encoding=\"utf-8\") as file:\n",
        "    writer = csv.writer(file)\n",
        "    writer.writerow([\"Quote\", \"Author\"])\n",
        "    for quote, author in zip(quotes, authors):\n",
        "        writer.writerow([quote.text, author.text])\n",
        "\n",
        "print(\"Scraping selesai, data tersimpan di quotes.csv\")"
      ],
      "metadata": {
        "colab": {
          "base_uri": "https://localhost:8080/"
        },
        "id": "b2Hqx3lncYIQ",
        "outputId": "88bf7ceb-eef5-463e-fcae-ce91be2b0201"
      },
      "execution_count": 6,
      "outputs": [
        {
          "output_type": "stream",
          "name": "stdout",
          "text": [
            "Scraping selesai, data tersimpan di quotes.csv\n"
          ]
        }
      ]
    }
  ]
}